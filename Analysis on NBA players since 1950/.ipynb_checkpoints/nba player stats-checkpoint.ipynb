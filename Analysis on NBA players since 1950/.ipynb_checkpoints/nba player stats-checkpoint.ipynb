{
 "cells": [
  {
   "cell_type": "code",
   "execution_count": 2,
   "metadata": {},
   "outputs": [],
   "source": [
    "import pandas as pd"
   ]
  },
  {
   "cell_type": "markdown",
   "metadata": {},
   "source": [
    "# Title "
   ]
  },
  {
   "cell_type": "markdown",
   "metadata": {},
   "source": [
    "## Introduction"
   ]
  },
  {
   "cell_type": "markdown",
   "metadata": {},
   "source": [
    "## Goal"
   ]
  },
  {
   "cell_type": "markdown",
   "metadata": {},
   "source": [
    "## Steps\n",
    "1. Data Cleaning / EDA\n",
    "2. Modeling / Model Selection\n",
    "3. Interpretation of Results "
   ]
  },
  {
   "cell_type": "markdown",
   "metadata": {},
   "source": [
    "## Results / Conclusions"
   ]
  },
  {
   "cell_type": "markdown",
   "metadata": {},
   "source": [
    "# Code"
   ]
  },
  {
   "cell_type": "markdown",
   "metadata": {},
   "source": [
    "## Data Cleaning / EDA"
   ]
  },
  {
   "cell_type": "code",
   "execution_count": 2,
   "metadata": {},
   "outputs": [],
   "source": [
    "# Importing packages \n",
    "import pandas as pd \n",
    "import seaborn as sns\n",
    "import numpy as np\n",
    "import matplotlib.pyplot as plt"
   ]
  },
  {
   "cell_type": "code",
   "execution_count": 3,
   "metadata": {},
   "outputs": [],
   "source": [
    "# Importing data\n",
    "player_data = pd.read_csv(\"player_data.csv\")\n",
    "season_stats = pd.read_csv(\"Seasons_Stats.csv\")"
   ]
  },
  {
   "cell_type": "markdown",
   "metadata": {},
   "source": [
    "Here, we have two different datasets we can analyze and work with. Let's take a look at the player_data dataset first and explore it. "
   ]
  },
  {
   "cell_type": "code",
   "execution_count": 5,
   "metadata": {
    "scrolled": true
   },
   "outputs": [
    {
     "data": {
      "text/html": [
       "<div>\n",
       "<style scoped>\n",
       "    .dataframe tbody tr th:only-of-type {\n",
       "        vertical-align: middle;\n",
       "    }\n",
       "\n",
       "    .dataframe tbody tr th {\n",
       "        vertical-align: top;\n",
       "    }\n",
       "\n",
       "    .dataframe thead th {\n",
       "        text-align: right;\n",
       "    }\n",
       "</style>\n",
       "<table border=\"1\" class=\"dataframe\">\n",
       "  <thead>\n",
       "    <tr style=\"text-align: right;\">\n",
       "      <th></th>\n",
       "      <th>name</th>\n",
       "      <th>year_start</th>\n",
       "      <th>year_end</th>\n",
       "      <th>position</th>\n",
       "      <th>height</th>\n",
       "      <th>weight</th>\n",
       "      <th>birth_date</th>\n",
       "      <th>college</th>\n",
       "    </tr>\n",
       "  </thead>\n",
       "  <tbody>\n",
       "    <tr>\n",
       "      <th>0</th>\n",
       "      <td>Alaa Abdelnaby</td>\n",
       "      <td>1991</td>\n",
       "      <td>1995</td>\n",
       "      <td>F-C</td>\n",
       "      <td>6-10</td>\n",
       "      <td>240.0</td>\n",
       "      <td>June 24, 1968</td>\n",
       "      <td>Duke University</td>\n",
       "    </tr>\n",
       "    <tr>\n",
       "      <th>1</th>\n",
       "      <td>Zaid Abdul-Aziz</td>\n",
       "      <td>1969</td>\n",
       "      <td>1978</td>\n",
       "      <td>C-F</td>\n",
       "      <td>6-9</td>\n",
       "      <td>235.0</td>\n",
       "      <td>April 7, 1946</td>\n",
       "      <td>Iowa State University</td>\n",
       "    </tr>\n",
       "    <tr>\n",
       "      <th>2</th>\n",
       "      <td>Kareem Abdul-Jabbar</td>\n",
       "      <td>1970</td>\n",
       "      <td>1989</td>\n",
       "      <td>C</td>\n",
       "      <td>7-2</td>\n",
       "      <td>225.0</td>\n",
       "      <td>April 16, 1947</td>\n",
       "      <td>University of California, Los Angeles</td>\n",
       "    </tr>\n",
       "    <tr>\n",
       "      <th>3</th>\n",
       "      <td>Mahmoud Abdul-Rauf</td>\n",
       "      <td>1991</td>\n",
       "      <td>2001</td>\n",
       "      <td>G</td>\n",
       "      <td>6-1</td>\n",
       "      <td>162.0</td>\n",
       "      <td>March 9, 1969</td>\n",
       "      <td>Louisiana State University</td>\n",
       "    </tr>\n",
       "    <tr>\n",
       "      <th>4</th>\n",
       "      <td>Tariq Abdul-Wahad</td>\n",
       "      <td>1998</td>\n",
       "      <td>2003</td>\n",
       "      <td>F</td>\n",
       "      <td>6-6</td>\n",
       "      <td>223.0</td>\n",
       "      <td>November 3, 1974</td>\n",
       "      <td>San Jose State University</td>\n",
       "    </tr>\n",
       "  </tbody>\n",
       "</table>\n",
       "</div>"
      ],
      "text/plain": [
       "                  name  year_start  year_end position height  weight  \\\n",
       "0       Alaa Abdelnaby        1991      1995      F-C   6-10   240.0   \n",
       "1      Zaid Abdul-Aziz        1969      1978      C-F    6-9   235.0   \n",
       "2  Kareem Abdul-Jabbar        1970      1989        C    7-2   225.0   \n",
       "3   Mahmoud Abdul-Rauf        1991      2001        G    6-1   162.0   \n",
       "4    Tariq Abdul-Wahad        1998      2003        F    6-6   223.0   \n",
       "\n",
       "         birth_date                                college  \n",
       "0     June 24, 1968                        Duke University  \n",
       "1     April 7, 1946                  Iowa State University  \n",
       "2    April 16, 1947  University of California, Los Angeles  \n",
       "3     March 9, 1969             Louisiana State University  \n",
       "4  November 3, 1974              San Jose State University  "
      ]
     },
     "execution_count": 5,
     "metadata": {},
     "output_type": "execute_result"
    }
   ],
   "source": [
    "# Exploring player_data dataset\n",
    "player_data.head()"
   ]
  },
  {
   "cell_type": "markdown",
   "metadata": {},
   "source": [
    "#### Handling Missing Data"
   ]
  },
  {
   "cell_type": "code",
   "execution_count": 6,
   "metadata": {
    "scrolled": true
   },
   "outputs": [
    {
     "data": {
      "text/plain": [
       "name            0\n",
       "year_start      0\n",
       "year_end        0\n",
       "position        1\n",
       "height          1\n",
       "weight          6\n",
       "birth_date     31\n",
       "college       302\n",
       "dtype: int64"
      ]
     },
     "execution_count": 6,
     "metadata": {},
     "output_type": "execute_result"
    }
   ],
   "source": [
    "# Are there any missing values? \n",
    "player_data.isna().sum()"
   ]
  },
  {
   "cell_type": "markdown",
   "metadata": {},
   "source": [
    "We will handle the missing data in a couple ways. For position, height, and weight, it should be easy to impute the data as we can use the existing data to predict the values. For example, we can use group-wise mean imputation as height, weight, and position usually have correlation. Lastly, for colleges and birth_date, this will be more difficult. However, I think we can do probabilistic imputation and draw from the distribution."
   ]
  },
  {
   "cell_type": "code",
   "execution_count": 7,
   "metadata": {},
   "outputs": [
    {
     "data": {
      "text/html": [
       "<div>\n",
       "<style scoped>\n",
       "    .dataframe tbody tr th:only-of-type {\n",
       "        vertical-align: middle;\n",
       "    }\n",
       "\n",
       "    .dataframe tbody tr th {\n",
       "        vertical-align: top;\n",
       "    }\n",
       "\n",
       "    .dataframe thead th {\n",
       "        text-align: right;\n",
       "    }\n",
       "</style>\n",
       "<table border=\"1\" class=\"dataframe\">\n",
       "  <thead>\n",
       "    <tr style=\"text-align: right;\">\n",
       "      <th></th>\n",
       "      <th>name</th>\n",
       "      <th>year_start</th>\n",
       "      <th>year_end</th>\n",
       "      <th>position</th>\n",
       "      <th>height</th>\n",
       "      <th>weight</th>\n",
       "      <th>birth_date</th>\n",
       "      <th>college</th>\n",
       "    </tr>\n",
       "  </thead>\n",
       "  <tbody>\n",
       "    <tr>\n",
       "      <th>2142</th>\n",
       "      <td>George Karl</td>\n",
       "      <td>1974</td>\n",
       "      <td>1978</td>\n",
       "      <td>NaN</td>\n",
       "      <td>NaN</td>\n",
       "      <td>NaN</td>\n",
       "      <td>May 12, 1952</td>\n",
       "      <td>University of North Carolina</td>\n",
       "    </tr>\n",
       "  </tbody>\n",
       "</table>\n",
       "</div>"
      ],
      "text/plain": [
       "             name  year_start  year_end position height  weight    birth_date  \\\n",
       "2142  George Karl        1974      1978      NaN    NaN     NaN  May 12, 1952   \n",
       "\n",
       "                           college  \n",
       "2142  University of North Carolina  "
      ]
     },
     "execution_count": 7,
     "metadata": {},
     "output_type": "execute_result"
    }
   ],
   "source": [
    "# Looking at missing position data\n",
    "player_data[player_data['position'].isna()]"
   ]
  },
  {
   "cell_type": "markdown",
   "metadata": {},
   "source": [
    "Unfortunately, it turns out that the player has 3 missing values. In this case, I will just remove this row. Thankfully it is just one player. "
   ]
  },
  {
   "cell_type": "code",
   "execution_count": 8,
   "metadata": {},
   "outputs": [],
   "source": [
    "# Dropping row\n",
    "player_data = player_data.drop(player_data.index[[2142]])"
   ]
  },
  {
   "cell_type": "code",
   "execution_count": 9,
   "metadata": {},
   "outputs": [
    {
     "data": {
      "text/html": [
       "<div>\n",
       "<style scoped>\n",
       "    .dataframe tbody tr th:only-of-type {\n",
       "        vertical-align: middle;\n",
       "    }\n",
       "\n",
       "    .dataframe tbody tr th {\n",
       "        vertical-align: top;\n",
       "    }\n",
       "\n",
       "    .dataframe thead th {\n",
       "        text-align: right;\n",
       "    }\n",
       "</style>\n",
       "<table border=\"1\" class=\"dataframe\">\n",
       "  <thead>\n",
       "    <tr style=\"text-align: right;\">\n",
       "      <th></th>\n",
       "      <th>name</th>\n",
       "      <th>year_start</th>\n",
       "      <th>year_end</th>\n",
       "      <th>position</th>\n",
       "      <th>height</th>\n",
       "      <th>weight</th>\n",
       "      <th>birth_date</th>\n",
       "      <th>college</th>\n",
       "    </tr>\n",
       "  </thead>\n",
       "  <tbody>\n",
       "    <tr>\n",
       "      <th>2360</th>\n",
       "      <td>Dick Lee</td>\n",
       "      <td>1968</td>\n",
       "      <td>1968</td>\n",
       "      <td>F</td>\n",
       "      <td>6-6</td>\n",
       "      <td>NaN</td>\n",
       "      <td>NaN</td>\n",
       "      <td>University of Washington</td>\n",
       "    </tr>\n",
       "    <tr>\n",
       "      <th>2783</th>\n",
       "      <td>Murray Mitchell</td>\n",
       "      <td>1950</td>\n",
       "      <td>1950</td>\n",
       "      <td>C</td>\n",
       "      <td>6-6</td>\n",
       "      <td>NaN</td>\n",
       "      <td>March 19, 1923</td>\n",
       "      <td>Sam Houston State University</td>\n",
       "    </tr>\n",
       "    <tr>\n",
       "      <th>2973</th>\n",
       "      <td>Paul Nolen</td>\n",
       "      <td>1954</td>\n",
       "      <td>1954</td>\n",
       "      <td>C</td>\n",
       "      <td>6-10</td>\n",
       "      <td>NaN</td>\n",
       "      <td>September 3, 1929</td>\n",
       "      <td>Texas Tech University</td>\n",
       "    </tr>\n",
       "    <tr>\n",
       "      <th>4279</th>\n",
       "      <td>Ray Wertis</td>\n",
       "      <td>1947</td>\n",
       "      <td>1948</td>\n",
       "      <td>G</td>\n",
       "      <td>5-11</td>\n",
       "      <td>NaN</td>\n",
       "      <td>January 1, 1922</td>\n",
       "      <td>St. John's University</td>\n",
       "    </tr>\n",
       "    <tr>\n",
       "      <th>4472</th>\n",
       "      <td>Bob Wood</td>\n",
       "      <td>1950</td>\n",
       "      <td>1950</td>\n",
       "      <td>G</td>\n",
       "      <td>5-10</td>\n",
       "      <td>NaN</td>\n",
       "      <td>October 7, 1921</td>\n",
       "      <td>Northern Illinois University</td>\n",
       "    </tr>\n",
       "  </tbody>\n",
       "</table>\n",
       "</div>"
      ],
      "text/plain": [
       "                 name  year_start  year_end position height  weight  \\\n",
       "2360         Dick Lee        1968      1968        F    6-6     NaN   \n",
       "2783  Murray Mitchell        1950      1950        C    6-6     NaN   \n",
       "2973       Paul Nolen        1954      1954        C   6-10     NaN   \n",
       "4279       Ray Wertis        1947      1948        G   5-11     NaN   \n",
       "4472         Bob Wood        1950      1950        G   5-10     NaN   \n",
       "\n",
       "             birth_date                       college  \n",
       "2360                NaN      University of Washington  \n",
       "2783     March 19, 1923  Sam Houston State University  \n",
       "2973  September 3, 1929         Texas Tech University  \n",
       "4279    January 1, 1922         St. John's University  \n",
       "4472    October 7, 1921  Northern Illinois University  "
      ]
     },
     "execution_count": 9,
     "metadata": {},
     "output_type": "execute_result"
    }
   ],
   "source": [
    "# Looking at missing weight data\n",
    "player_data[player_data['weight'].isna()]"
   ]
  },
  {
   "cell_type": "code",
   "execution_count": 10,
   "metadata": {},
   "outputs": [],
   "source": [
    "# Group-wise Mean Imputation\n",
    "player_data.weight = player_data.weight.fillna(player_data.groupby('position')['weight'].transform('mean'))"
   ]
  },
  {
   "cell_type": "code",
   "execution_count": 11,
   "metadata": {
    "scrolled": false
   },
   "outputs": [
    {
     "data": {
      "text/html": [
       "<div>\n",
       "<style scoped>\n",
       "    .dataframe tbody tr th:only-of-type {\n",
       "        vertical-align: middle;\n",
       "    }\n",
       "\n",
       "    .dataframe tbody tr th {\n",
       "        vertical-align: top;\n",
       "    }\n",
       "\n",
       "    .dataframe thead th {\n",
       "        text-align: right;\n",
       "    }\n",
       "</style>\n",
       "<table border=\"1\" class=\"dataframe\">\n",
       "  <thead>\n",
       "    <tr style=\"text-align: right;\">\n",
       "      <th></th>\n",
       "      <th>name</th>\n",
       "      <th>year_start</th>\n",
       "      <th>year_end</th>\n",
       "      <th>position</th>\n",
       "      <th>height</th>\n",
       "      <th>weight</th>\n",
       "      <th>birth_date</th>\n",
       "      <th>college</th>\n",
       "    </tr>\n",
       "  </thead>\n",
       "  <tbody>\n",
       "    <tr>\n",
       "      <th>9</th>\n",
       "      <td>Alex Abrines</td>\n",
       "      <td>2017</td>\n",
       "      <td>2018</td>\n",
       "      <td>G-F</td>\n",
       "      <td>6-6</td>\n",
       "      <td>190.0</td>\n",
       "      <td>August 1, 1993</td>\n",
       "      <td>NaN</td>\n",
       "    </tr>\n",
       "    <tr>\n",
       "      <th>32</th>\n",
       "      <td>Alexis Ajinca</td>\n",
       "      <td>2009</td>\n",
       "      <td>2017</td>\n",
       "      <td>C</td>\n",
       "      <td>7-2</td>\n",
       "      <td>248.0</td>\n",
       "      <td>May 6, 1988</td>\n",
       "      <td>NaN</td>\n",
       "    </tr>\n",
       "    <tr>\n",
       "      <th>38</th>\n",
       "      <td>Furkan Aldemir</td>\n",
       "      <td>2015</td>\n",
       "      <td>2015</td>\n",
       "      <td>F-C</td>\n",
       "      <td>6-10</td>\n",
       "      <td>240.0</td>\n",
       "      <td>August 9, 1991</td>\n",
       "      <td>NaN</td>\n",
       "    </tr>\n",
       "    <tr>\n",
       "      <th>74</th>\n",
       "      <td>David Andersen</td>\n",
       "      <td>2010</td>\n",
       "      <td>2011</td>\n",
       "      <td>C</td>\n",
       "      <td>6-11</td>\n",
       "      <td>245.0</td>\n",
       "      <td>June 23, 1980</td>\n",
       "      <td>NaN</td>\n",
       "    </tr>\n",
       "    <tr>\n",
       "      <th>100</th>\n",
       "      <td>Martynas Andriuskevicius</td>\n",
       "      <td>2006</td>\n",
       "      <td>2006</td>\n",
       "      <td>C</td>\n",
       "      <td>7-2</td>\n",
       "      <td>240.0</td>\n",
       "      <td>March 12, 1986</td>\n",
       "      <td>NaN</td>\n",
       "    </tr>\n",
       "  </tbody>\n",
       "</table>\n",
       "</div>"
      ],
      "text/plain": [
       "                         name  year_start  year_end position height  weight  \\\n",
       "9                Alex Abrines        2017      2018      G-F    6-6   190.0   \n",
       "32              Alexis Ajinca        2009      2017        C    7-2   248.0   \n",
       "38             Furkan Aldemir        2015      2015      F-C   6-10   240.0   \n",
       "74             David Andersen        2010      2011        C   6-11   245.0   \n",
       "100  Martynas Andriuskevicius        2006      2006        C    7-2   240.0   \n",
       "\n",
       "         birth_date college  \n",
       "9    August 1, 1993     NaN  \n",
       "32      May 6, 1988     NaN  \n",
       "38   August 9, 1991     NaN  \n",
       "74    June 23, 1980     NaN  \n",
       "100  March 12, 1986     NaN  "
      ]
     },
     "execution_count": 11,
     "metadata": {},
     "output_type": "execute_result"
    }
   ],
   "source": [
    "# Looking at missing college data and birthdate\n",
    "player_data[player_data['college'].isna()].head()"
   ]
  },
  {
   "cell_type": "code",
   "execution_count": 12,
   "metadata": {},
   "outputs": [],
   "source": [
    "# Probabilistic Imputation for college\n",
    "num_null = player_data.college.isnull().sum() # number of nulls\n",
    "fill_values = player_data.college.dropna().sample(num_null, replace=True)  # draw fill vals from distribution\n",
    "fill_values.index = player_data.loc[player_data.college.isnull()].index  # align the index, which is missing?\n",
    "player_data = player_data.fillna({'college': fill_values.to_dict()})  # fill the vals"
   ]
  },
  {
   "cell_type": "code",
   "execution_count": 13,
   "metadata": {},
   "outputs": [],
   "source": [
    "# Probabilistic Imputation for birth_date\n",
    "num_null = player_data.birth_date.isnull().sum() # number of nulls\n",
    "fill_values = player_data.birth_date.dropna().sample(num_null, replace=True)  # draw fill vals from distribution\n",
    "fill_values.index = player_data.loc[player_data.birth_date.isnull()].index  # align the index, which is missing?\n",
    "player_data = player_data.fillna({'birth_date': fill_values.to_dict()})  # fill the vals"
   ]
  },
  {
   "cell_type": "markdown",
   "metadata": {},
   "source": [
    "### A couple questions come to mind from seeing our dataset. \n",
    "1. What is the average career length a player has? Does it change over year_start?\n",
    "2. Which colleges produce the best stat players? \n",
    "3. Any change in height and weight as time progresses? \n",
    "4. Is there a common birth month with position? "
   ]
  },
  {
   "cell_type": "markdown",
   "metadata": {},
   "source": [
    "#### 1. What is the average career length a player has? Does it change over year_start?"
   ]
  },
  {
   "cell_type": "code",
   "execution_count": 14,
   "metadata": {},
   "outputs": [
    {
     "data": {
      "text/plain": [
       "0    1317\n",
       "1     566\n",
       "2     394\n",
       "3     314\n",
       "4     244\n",
       "Name: career_length, dtype: int64"
      ]
     },
     "execution_count": 14,
     "metadata": {},
     "output_type": "execute_result"
    }
   ],
   "source": [
    "player_data['career_length'] = player_data.year_end - player_data.year_start\n",
    "player_data['career_length'].value_counts().head()"
   ]
  },
  {
   "cell_type": "markdown",
   "metadata": {},
   "source": [
    "What stands out to me is the high frequency of 0 year careers. You would think that most careers would be at least couple years. I want to see what type of players have such a short basketball career."
   ]
  },
  {
   "cell_type": "code",
   "execution_count": 15,
   "metadata": {},
   "outputs": [
    {
     "data": {
      "text/html": [
       "<div>\n",
       "<style scoped>\n",
       "    .dataframe tbody tr th:only-of-type {\n",
       "        vertical-align: middle;\n",
       "    }\n",
       "\n",
       "    .dataframe tbody tr th {\n",
       "        vertical-align: top;\n",
       "    }\n",
       "\n",
       "    .dataframe thead th {\n",
       "        text-align: right;\n",
       "    }\n",
       "</style>\n",
       "<table border=\"1\" class=\"dataframe\">\n",
       "  <thead>\n",
       "    <tr style=\"text-align: right;\">\n",
       "      <th></th>\n",
       "      <th>name</th>\n",
       "      <th>year_start</th>\n",
       "      <th>year_end</th>\n",
       "      <th>position</th>\n",
       "      <th>height</th>\n",
       "      <th>weight</th>\n",
       "      <th>birth_date</th>\n",
       "      <th>college</th>\n",
       "      <th>career_length</th>\n",
       "    </tr>\n",
       "  </thead>\n",
       "  <tbody>\n",
       "    <tr>\n",
       "      <th>7</th>\n",
       "      <td>Forest Able</td>\n",
       "      <td>1957</td>\n",
       "      <td>1957</td>\n",
       "      <td>G</td>\n",
       "      <td>6-3</td>\n",
       "      <td>180.0</td>\n",
       "      <td>July 27, 1932</td>\n",
       "      <td>Western Kentucky University</td>\n",
       "      <td>0</td>\n",
       "    </tr>\n",
       "    <tr>\n",
       "      <th>11</th>\n",
       "      <td>Don Ackerman</td>\n",
       "      <td>1954</td>\n",
       "      <td>1954</td>\n",
       "      <td>G</td>\n",
       "      <td>6-0</td>\n",
       "      <td>183.0</td>\n",
       "      <td>September 4, 1930</td>\n",
       "      <td>Long Island University</td>\n",
       "      <td>0</td>\n",
       "    </tr>\n",
       "    <tr>\n",
       "      <th>13</th>\n",
       "      <td>Bud Acton</td>\n",
       "      <td>1968</td>\n",
       "      <td>1968</td>\n",
       "      <td>F</td>\n",
       "      <td>6-6</td>\n",
       "      <td>210.0</td>\n",
       "      <td>January 11, 1942</td>\n",
       "      <td>Hillsdale College</td>\n",
       "      <td>0</td>\n",
       "    </tr>\n",
       "    <tr>\n",
       "      <th>23</th>\n",
       "      <td>Bam Adebayo</td>\n",
       "      <td>2018</td>\n",
       "      <td>2018</td>\n",
       "      <td>C-F</td>\n",
       "      <td>6-10</td>\n",
       "      <td>243.0</td>\n",
       "      <td>July 18, 1997</td>\n",
       "      <td>University of Kentucky</td>\n",
       "      <td>0</td>\n",
       "    </tr>\n",
       "    <tr>\n",
       "      <th>31</th>\n",
       "      <td>Matthew Aitch</td>\n",
       "      <td>1968</td>\n",
       "      <td>1968</td>\n",
       "      <td>F</td>\n",
       "      <td>6-7</td>\n",
       "      <td>230.0</td>\n",
       "      <td>September 21, 1944</td>\n",
       "      <td>Michigan State University</td>\n",
       "      <td>0</td>\n",
       "    </tr>\n",
       "  </tbody>\n",
       "</table>\n",
       "</div>"
      ],
      "text/plain": [
       "             name  year_start  year_end position height  weight  \\\n",
       "7     Forest Able        1957      1957        G    6-3   180.0   \n",
       "11   Don Ackerman        1954      1954        G    6-0   183.0   \n",
       "13      Bud Acton        1968      1968        F    6-6   210.0   \n",
       "23    Bam Adebayo        2018      2018      C-F   6-10   243.0   \n",
       "31  Matthew Aitch        1968      1968        F    6-7   230.0   \n",
       "\n",
       "            birth_date                      college  career_length  \n",
       "7        July 27, 1932  Western Kentucky University              0  \n",
       "11   September 4, 1930       Long Island University              0  \n",
       "13    January 11, 1942            Hillsdale College              0  \n",
       "23       July 18, 1997       University of Kentucky              0  \n",
       "31  September 21, 1944    Michigan State University              0  "
      ]
     },
     "execution_count": 15,
     "metadata": {},
     "output_type": "execute_result"
    }
   ],
   "source": [
    "# Dataset with only players with 0 years in career\n",
    "player_data[player_data.career_length == 0].head()"
   ]
  },
  {
   "cell_type": "markdown",
   "metadata": {},
   "source": [
    "I want to see if their age when they started in the NBA was a factor."
   ]
  },
  {
   "cell_type": "code",
   "execution_count": 16,
   "metadata": {},
   "outputs": [],
   "source": [
    "# Extracting Birth year and getting age when they started\n",
    "birth_year = player_data.birth_date.str.split(\",\")\n",
    "temp = birth_year.apply(lambda x: int(x[1]))\n",
    "player_data['birth_year'] = temp\n",
    "player_data['age_started'] = player_data['year_start'] - player_data['birth_year']"
   ]
  },
  {
   "cell_type": "code",
   "execution_count": 17,
   "metadata": {},
   "outputs": [],
   "source": [
    "# Relationship between Age started and Career Length\n",
    "mean_ages = []\n",
    "career = []\n",
    "for i in range(23): \n",
    "    mean_ages.append(player_data[player_data.career_length == i].age_started.mean())\n",
    "    career.append(i)"
   ]
  },
  {
   "cell_type": "code",
   "execution_count": 18,
   "metadata": {},
   "outputs": [
    {
     "data": {
      "text/plain": [
       "Text(0, 0.5, 'Career Length (Years)')"
      ]
     },
     "execution_count": 18,
     "metadata": {},
     "output_type": "execute_result"
    },
    {
     "data": {
      "image/png": "[encoded data removed]",
      "text/plain": [
       "<Figure size 432x288 with 1 Axes>"
      ]
     },
     "metadata": {
      "needs_background": "light"
     },
     "output_type": "display_data"
    }
   ],
   "source": [
    "ax = sns.scatterplot(x=mean_ages, y=career)\n",
    "plt.title('Relationship between Career Length and Age Started')\n",
    "plt.xlabel('Average Age Started')\n",
    "plt.ylabel('Career Length (Years)')"
   ]
  },
  {
   "cell_type": "markdown",
   "metadata": {},
   "source": [
    "According to our data, the younger you start in the NBA, the longer your NBA career will be. This makes sense as players who start when they are younger tend to do so because coaches believe in their ability. This may indicate a long and fruitful career where they are always in demand by teams. However, players who start later in their career will always have the age factor and may not be as desirable by other teams. "
   ]
  },
  {
   "cell_type": "markdown",
   "metadata": {},
   "source": [
    "#### 2. Which colleges produce the best stat players?"
   ]
  },
  {
   "cell_type": "markdown",
   "metadata": {},
   "source": [
    "In order to answer this question, we will use the season_stats dataset we imported in the beginning and merge it with out player_data dataset. "
   ]
  },
  {
   "cell_type": "code",
   "execution_count": 19,
   "metadata": {},
   "outputs": [],
   "source": [
    "# Merging Dataframe on 'name'\n",
    "season_stats = season_stats.rename(columns={\"Player\": \"name\"})\n",
    "merged = pd.merge(player_data, season_stats, on='name')"
   ]
  },
  {
   "cell_type": "code",
   "execution_count": 20,
   "metadata": {},
   "outputs": [
    {
     "data": {
      "text/plain": [
       "Index(['name', 'year_start', 'year_end', 'position', 'height', 'weight',\n",
       "       'birth_date', 'college', 'career_length', 'birth_year', 'age_started',\n",
       "       'Unnamed: 0', 'Year', 'Pos', 'Age', 'Tm', 'G', 'GS', 'MP', 'PER', 'TS%',\n",
       "       '3PAr', 'FTr', 'ORB%', 'DRB%', 'TRB%', 'AST%', 'STL%', 'BLK%', 'TOV%',\n",
       "       'USG%', 'blanl', 'OWS', 'DWS', 'WS', 'WS/48', 'blank2', 'OBPM', 'DBPM',\n",
       "       'BPM', 'VORP', 'FG', 'FGA', 'FG%', '3P', '3PA', '3P%', '2P', '2PA',\n",
       "       '2P%', 'eFG%', 'FT', 'FTA', 'FT%', 'ORB', 'DRB', 'TRB', 'AST', 'STL',\n",
       "       'BLK', 'TOV', 'PF', 'PTS'],\n",
       "      dtype='object')"
      ]
     },
     "execution_count": 20,
     "metadata": {},
     "output_type": "execute_result"
    }
   ],
   "source": [
    "# Let's see if we can remove some columns\n",
    "merged.columns"
   ]
  },
  {
   "cell_type": "code",
   "execution_count": 21,
   "metadata": {},
   "outputs": [],
   "source": [
    "# Dropping repetitive or irrelevant columns\n",
    "merged = merged.drop(columns=['Unnamed: 0','blanl','blank2','Pos','birth_date'])"
   ]
  },
  {
   "cell_type": "code",
   "execution_count": 22,
   "metadata": {},
   "outputs": [
    {
     "data": {
      "text/plain": [
       "name                0\n",
       "year_start          0\n",
       "year_end            0\n",
       "position            0\n",
       "height              0\n",
       "weight              0\n",
       "college             0\n",
       "career_length       0\n",
       "birth_year          0\n",
       "age_started         0\n",
       "Year                0\n",
       "Age                 8\n",
       "Tm                  0\n",
       "G                   0\n",
       "GS               5482\n",
       "MP                443\n",
       "PER               475\n",
       "TS%                87\n",
       "3PAr             4918\n",
       "FTr               101\n",
       "ORB%             3139\n",
       "DRB%             3139\n",
       "TRB%             2460\n",
       "AST%             1675\n",
       "STL%             3139\n",
       "BLK%             3139\n",
       "TOV%             4234\n",
       "USG%             4175\n",
       "OWS                34\n",
       "DWS                34\n",
       "WS                 34\n",
       "WS/48             475\n",
       "OBPM             3134\n",
       "DBPM             3134\n",
       "BPM              3134\n",
       "VORP             3134\n",
       "FG                  0\n",
       "FGA                 0\n",
       "FG%               101\n",
       "3P               4829\n",
       "3PA              4829\n",
       "3P%              8324\n",
       "2P                  0\n",
       "2PA                 0\n",
       "2P%               134\n",
       "eFG%              101\n",
       "FT                  0\n",
       "FTA                 0\n",
       "FT%               881\n",
       "ORB              3134\n",
       "DRB              3134\n",
       "TRB               292\n",
       "AST                 0\n",
       "STL              3134\n",
       "BLK              3134\n",
       "TOV              4170\n",
       "PF                  0\n",
       "PTS                 0\n",
       "dtype: int64"
      ]
     },
     "execution_count": 22,
     "metadata": {},
     "output_type": "execute_result"
    }
   ],
   "source": [
    "# Looking at missingess\n",
    "merged.isna().sum()"
   ]
  },
  {
   "cell_type": "markdown",
   "metadata": {},
   "source": [
    "Looks like there are a lot of missing stats data. We will have to figure out what we should do with them. "
   ]
  },
  {
   "cell_type": "code",
   "execution_count": 23,
   "metadata": {},
   "outputs": [
    {
     "data": {
      "text/plain": [
       "5268"
      ]
     },
     "execution_count": 23,
     "metadata": {},
     "output_type": "execute_result"
    }
   ],
   "source": [
    "# Looking at GS (Games Started)\n",
    "(merged.GS == 0).sum()"
   ]
  },
  {
   "cell_type": "markdown",
   "metadata": {},
   "source": [
    "We will drop players with 0 games played as the missing values in stats would be due to this. If there are no games played, there will be no stats to obtain. "
   ]
  },
  {
   "cell_type": "code",
   "execution_count": 24,
   "metadata": {},
   "outputs": [
    {
     "data": {
      "text/plain": [
       "name                0\n",
       "year_start          0\n",
       "year_end            0\n",
       "position            0\n",
       "height              0\n",
       "weight              0\n",
       "college             0\n",
       "career_length       0\n",
       "birth_year          0\n",
       "age_started         0\n",
       "Year                0\n",
       "Age                 0\n",
       "Tm                  0\n",
       "G                   0\n",
       "GS                  0\n",
       "MP                  0\n",
       "PER                 0\n",
       "TS%                 0\n",
       "3PAr                0\n",
       "FTr                 0\n",
       "ORB%                0\n",
       "DRB%                0\n",
       "TRB%                0\n",
       "AST%                0\n",
       "STL%                0\n",
       "BLK%                0\n",
       "TOV%                0\n",
       "USG%                0\n",
       "OWS                 0\n",
       "DWS                 0\n",
       "WS                  0\n",
       "WS/48               0\n",
       "OBPM                0\n",
       "DBPM                0\n",
       "BPM                 0\n",
       "VORP                0\n",
       "FG                  0\n",
       "FGA                 0\n",
       "FG%                 0\n",
       "3P                  0\n",
       "3PA                 0\n",
       "3P%              1540\n",
       "2P                  0\n",
       "2PA                 0\n",
       "2P%                 1\n",
       "eFG%                0\n",
       "FT                  0\n",
       "FTA                 0\n",
       "FT%                28\n",
       "ORB                 0\n",
       "DRB                 0\n",
       "TRB                 0\n",
       "AST                 0\n",
       "STL                 0\n",
       "BLK                 0\n",
       "TOV                 0\n",
       "PF                  0\n",
       "PTS                 0\n",
       "dtype: int64"
      ]
     },
     "execution_count": 24,
     "metadata": {},
     "output_type": "execute_result"
    }
   ],
   "source": [
    "merged = merged[merged.GS > 0]\n",
    "merged.isna().sum()"
   ]
  },
  {
   "cell_type": "markdown",
   "metadata": {},
   "source": [
    "Looks like it solved most of our missingness! "
   ]
  },
  {
   "cell_type": "code",
   "execution_count": 27,
   "metadata": {},
   "outputs": [
    {
     "data": {
      "text/html": [
       "<div>\n",
       "<style scoped>\n",
       "    .dataframe tbody tr th:only-of-type {\n",
       "        vertical-align: middle;\n",
       "    }\n",
       "\n",
       "    .dataframe tbody tr th {\n",
       "        vertical-align: top;\n",
       "    }\n",
       "\n",
       "    .dataframe thead th {\n",
       "        text-align: right;\n",
       "    }\n",
       "</style>\n",
       "<table border=\"1\" class=\"dataframe\">\n",
       "  <thead>\n",
       "    <tr style=\"text-align: right;\">\n",
       "      <th></th>\n",
       "      <th>3P</th>\n",
       "      <th>3PA</th>\n",
       "      <th>3P%</th>\n",
       "    </tr>\n",
       "  </thead>\n",
       "  <tbody>\n",
       "    <tr>\n",
       "      <th>1</th>\n",
       "      <td>0.0</td>\n",
       "      <td>0.0</td>\n",
       "      <td>NaN</td>\n",
       "    </tr>\n",
       "    <tr>\n",
       "      <th>4</th>\n",
       "      <td>0.0</td>\n",
       "      <td>0.0</td>\n",
       "      <td>NaN</td>\n",
       "    </tr>\n",
       "    <tr>\n",
       "      <th>70</th>\n",
       "      <td>0.0</td>\n",
       "      <td>0.0</td>\n",
       "      <td>NaN</td>\n",
       "    </tr>\n",
       "    <tr>\n",
       "      <th>77</th>\n",
       "      <td>0.0</td>\n",
       "      <td>0.0</td>\n",
       "      <td>NaN</td>\n",
       "    </tr>\n",
       "    <tr>\n",
       "      <th>97</th>\n",
       "      <td>0.0</td>\n",
       "      <td>0.0</td>\n",
       "      <td>NaN</td>\n",
       "    </tr>\n",
       "  </tbody>\n",
       "</table>\n",
       "</div>"
      ],
      "text/plain": [
       "     3P  3PA  3P%\n",
       "1   0.0  0.0  NaN\n",
       "4   0.0  0.0  NaN\n",
       "70  0.0  0.0  NaN\n",
       "77  0.0  0.0  NaN\n",
       "97  0.0  0.0  NaN"
      ]
     },
     "execution_count": 27,
     "metadata": {},
     "output_type": "execute_result"
    }
   ],
   "source": [
    "# Looking at 3P% (3 Point Percentage)\n",
    "merged[merged[\"3P%\"].isna()].iloc[:,39:42].head()"
   ]
  },
  {
   "cell_type": "markdown",
   "metadata": {},
   "source": [
    "Missingness of 3p% is dependent on 3p made and 3p attempts. Since these players never made an attempt to shoot, we want to see what positions these players are typically in to conclude whether or not we should remove these players."
   ]
  },
  {
   "cell_type": "code",
   "execution_count": 29,
   "metadata": {},
   "outputs": [
    {
     "data": {
      "text/plain": [
       "C      1141\n",
       "F      1033\n",
       "F-C     846\n",
       "C-F     439\n",
       "G       232\n",
       "F-G      72\n",
       "G-F      66\n",
       "Name: position, dtype: int64"
      ]
     },
     "execution_count": 29,
     "metadata": {},
     "output_type": "execute_result"
    }
   ],
   "source": [
    "merged[merged[\"3P\"] == 0].position.value_counts()"
   ]
  },
  {
   "cell_type": "markdown",
   "metadata": {},
   "source": [
    "Most players seem to be in the Center or Forward position combination. These positions are notable for driving into the paint and not doing many 3 pters (if any). We will keep these rows. "
   ]
  },
  {
   "cell_type": "markdown",
   "metadata": {},
   "source": [
    "Our next step is to determine which stats are suitable metrics of comparisons. We will use Player Win Score as our metric. \n",
    "\n",
    "\n",
    "**player win score = \n",
    "points + rebounds + steals + .5(assists) + .5(blocked shots) - FG attempts - turnovers - .5(FT attempts) - .5(personal fouls)** "
   ]
  },
  {
   "cell_type": "code",
   "execution_count": 40,
   "metadata": {},
   "outputs": [
    {
     "data": {
      "text/plain": [
       "Index(['name', 'year_start', 'year_end', 'position', 'height', 'weight',\n",
       "       'college', 'career_length', 'birth_year', 'age_started', 'Year', 'Age',\n",
       "       'Tm', 'G', 'GS', 'MP', 'PER', 'TS%', '3PAr', 'FTr', 'ORB%', 'DRB%',\n",
       "       'TRB%', 'AST%', 'STL%', 'BLK%', 'TOV%', 'USG%', 'OWS', 'DWS', 'WS',\n",
       "       'WS/48', 'OBPM', 'DBPM', 'BPM', 'VORP', 'FG', 'FGA', 'FG%', '3P', '3PA',\n",
       "       '3P%', '2P', '2PA', '2P%', 'eFG%', 'FT', 'FTA', 'FT%', 'ORB', 'DRB',\n",
       "       'TRB', 'AST', 'STL', 'BLK', 'TOV', 'PF', 'PTS'],\n",
       "      dtype='object')"
      ]
     },
     "execution_count": 40,
     "metadata": {},
     "output_type": "execute_result"
    }
   ],
   "source": [
    "merged.columns"
   ]
  },
  {
   "cell_type": "code",
   "execution_count": 43,
   "metadata": {},
   "outputs": [],
   "source": [
    "merged[\"player_win_score\"] = (merged.PTS + merged.TRB + merged.STL + .5 * merged.AST + \n",
    "        .5 * merged.BLK - merged.FGA - merged.TOV - .5 * merged.FTA - .5 * merged.PF)"
   ]
  },
  {
   "cell_type": "code",
   "execution_count": 47,
   "metadata": {},
   "outputs": [
    {
     "data": {
      "text/plain": [
       "college\n",
       "Marshall University                 902.500000\n",
       "Montana State University            899.678571\n",
       "Illinois Wesleyan University        764.100000\n",
       "Norfolk State University            617.239130\n",
       "Trinity Valley Community College    571.285714\n",
       "Name: player_win_score, dtype: float64"
      ]
     },
     "execution_count": 47,
     "metadata": {},
     "output_type": "execute_result"
    }
   ],
   "source": [
    "merged.groupby(\"college\")[\"player_win_score\"].mean().sort_values(ascending=False).head()"
   ]
  },
  {
   "cell_type": "code",
   "execution_count": null,
   "metadata": {},
   "outputs": [],
   "source": []
  }
 ],
 "metadata": {
  "kernelspec": {
   "display_name": "Python 3",
   "language": "python",
   "name": "python3"
  },
  "language_info": {
   "codemirror_mode": {
    "name": "ipython",
    "version": 3
   },
   "file_extension": ".py",
   "mimetype": "text/x-python",
   "name": "python",
   "nbconvert_exporter": "python",
   "pygments_lexer": "ipython3",
   "version": "3.8.2"
  }
 },
 "nbformat": 4,
 "nbformat_minor": 4
}
